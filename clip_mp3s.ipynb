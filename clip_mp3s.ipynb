{
 "cells": [
  {
   "cell_type": "code",
   "execution_count": 2,
   "metadata": {},
   "outputs": [],
   "source": [
    "from pydub import AudioSegment\n",
    "import os"
   ]
  },
  {
   "cell_type": "code",
   "execution_count": 25,
   "metadata": {},
   "outputs": [],
   "source": [
    "group_folders = []\n",
    "for folder in os.listdir('./audio_files'):\n",
    "    if folder != '.DS_Store':\n",
    "        group_folders.append(folder)\n",
    "song_paths = []\n",
    "for i in range(len(group_folders)):\n",
    "    for song in os.listdir('./audio_files/'+group_folders[i]):\n",
    "        if song != '.DS_Store':\n",
    "            song_paths.append('/audio_files/'+group_folders[i]+'/'+song)"
   ]
  },
  {
   "cell_type": "code",
   "execution_count": 26,
   "metadata": {
    "scrolled": true
   },
   "outputs": [
    {
     "data": {
      "text/plain": [
       "['/audio_files/monsta_x/play_it_cool.mp3',\n",
       " '/audio_files/monsta_x/shine_forever.mp3',\n",
       " '/audio_files/monsta_x/beautiful.mp3',\n",
       " '/audio_files/monsta_x/alligator.mp3',\n",
       " '/audio_files/monsta_x/trespass.mp3',\n",
       " '/audio_files/monsta_x/dramarama.mp3',\n",
       " '/audio_files/monsta_x/jealousy.mp3',\n",
       " '/audio_files/monsta_x/shoot_out.mp3',\n",
       " '/audio_files/monsta_x/x.mp3',\n",
       " '/audio_files/monsta_x/hero.mp3',\n",
       " '/audio_files/exo/love_me_right.mp3',\n",
       " '/audio_files/exo/monster.mp3',\n",
       " '/audio_files/exo/ko_ko_bop.mp3',\n",
       " '/audio_files/exo/lotto.mp3',\n",
       " '/audio_files/exo/tempo.mp3',\n",
       " '/audio_files/exo/love_shot.mp3',\n",
       " '/audio_files/exo/the_eve.mp3',\n",
       " '/audio_files/exo/power.mp3',\n",
       " '/audio_files/exo/call_me_baby.mp3',\n",
       " '/audio_files/exo/growl.mp3',\n",
       " '/audio_files/dreamcatcher/wonderland.mp3',\n",
       " '/audio_files/dreamcatcher/piri.mp3',\n",
       " '/audio_files/dreamcatcher/chase_me.mp3',\n",
       " '/audio_files/dreamcatcher/good_night.mp3',\n",
       " '/audio_files/dreamcatcher/what.mp3',\n",
       " '/audio_files/dreamcatcher/fly_high.mp3',\n",
       " '/audio_files/dreamcatcher/full_moon.mp3',\n",
       " '/audio_files/dreamcatcher/you_and_i.mp3',\n",
       " '/audio_files/dreamcatcher/over_the_sky.mp3',\n",
       " '/audio_files/dreamcatcher/and_there_was_no_one_left.mp3',\n",
       " '/audio_files/bts/dope.mp3',\n",
       " '/audio_files/bts/i_need_u.mp3',\n",
       " '/audio_files/bts/not_today.mp3',\n",
       " '/audio_files/bts/fake_love.mp3',\n",
       " '/audio_files/bts/blood_sweat_and_tears.mp3',\n",
       " '/audio_files/bts/boy_with_luv.mp3',\n",
       " '/audio_files/bts/idol.mp3',\n",
       " '/audio_files/bts/mic_drop.mp3',\n",
       " '/audio_files/bts/dna.mp3',\n",
       " '/audio_files/bts/fire.mp3',\n",
       " '/audio_files/blackpink/kiss_and_make_up.mp3',\n",
       " '/audio_files/blackpink/kick_it.mp3',\n",
       " '/audio_files/blackpink/forever_young.mp3',\n",
       " \"/audio_files/blackpink/don't_know_what_to_do.mp3\",\n",
       " \"/audio_files/blackpink/as_if_it's_your_last.mp3\",\n",
       " '/audio_files/blackpink/boombayah.mp3',\n",
       " '/audio_files/blackpink/playing_with_fire.mp3',\n",
       " '/audio_files/blackpink/ddu-du_ddu-du.mp3',\n",
       " '/audio_files/blackpink/kill_this_love.mp3',\n",
       " '/audio_files/blackpink/whistle.mp3',\n",
       " '/audio_files/aoa/get_out.mp3',\n",
       " '/audio_files/aoa/bingle_bangle.mp3',\n",
       " '/audio_files/aoa/good_luck.mp3',\n",
       " '/audio_files/aoa/miniskirt.mp3',\n",
       " '/audio_files/aoa/heart_attack.mp3',\n",
       " '/audio_files/aoa/confused.mp3',\n",
       " '/audio_files/aoa/like_a_cat.mp3',\n",
       " '/audio_files/aoa/ai_wo_choudai.mp3',\n",
       " '/audio_files/aoa/bing_bing.mp3',\n",
       " '/audio_files/aoa/excuse_me.mp3']"
      ]
     },
     "execution_count": 26,
     "metadata": {},
     "output_type": "execute_result"
    }
   ],
   "source": [
    "song_paths"
   ]
  },
  {
   "cell_type": "code",
   "execution_count": 27,
   "metadata": {},
   "outputs": [],
   "source": [
    "if not os.path.exists('clipped_audio'):\n",
    "    os.makedirs('clipped_audio')\n",
    "for folder in group_folders:\n",
    "    if not os.path.exists('clipped_audio/'+folder):\n",
    "        os.makedirs('clipped_audio/'+folder)"
   ]
  },
  {
   "cell_type": "code",
   "execution_count": 28,
   "metadata": {},
   "outputs": [],
   "source": [
    "#normalize and quintuple dataset size\n",
    "for path in song_paths:\n",
    "    sound = AudioSegment.from_mp3(path[1:])\n",
    "    seg_1 = sound[:30000]\n",
    "    seg_2 = sound[30000:60000]\n",
    "    seg_3 = sound[60000:90000]\n",
    "    seg_4 = sound[90000:120000]\n",
    "    seg_5 = sound[120000:150000]\n",
    "    export_path1 = path.replace('/audio_files', 'clipped_audio')[:-4]+'_1.mp3'\n",
    "    export_path2 = path.replace('/audio_files', 'clipped_audio')[:-4]+'_2.mp3'\n",
    "    export_path3 = path.replace('/audio_files', 'clipped_audio')[:-4]+'_3.mp3'\n",
    "    export_path4 = path.replace('/audio_files', 'clipped_audio')[:-4]+'_4.mp3'\n",
    "    export_path5 = path.replace('/audio_files', 'clipped_audio')[:-4]+'_5.mp3'\n",
    "    seg_1.export(export_path1, format='mp3')\n",
    "    seg_2.export(export_path2, format='mp3')\n",
    "    seg_3.export(export_path3, format='mp3')\n",
    "    seg_4.export(export_path4, format='mp3')\n",
    "    seg_5.export(export_path5, format='mp3')"
   ]
  },
  {
   "cell_type": "code",
   "execution_count": null,
   "metadata": {},
   "outputs": [],
   "source": []
  },
  {
   "cell_type": "code",
   "execution_count": null,
   "metadata": {},
   "outputs": [],
   "source": []
  }
 ],
 "metadata": {
  "kernelspec": {
   "display_name": "Python 3",
   "language": "python",
   "name": "python3"
  },
  "language_info": {
   "codemirror_mode": {
    "name": "ipython",
    "version": 3
   },
   "file_extension": ".py",
   "mimetype": "text/x-python",
   "name": "python",
   "nbconvert_exporter": "python",
   "pygments_lexer": "ipython3",
   "version": "3.6.5"
  }
 },
 "nbformat": 4,
 "nbformat_minor": 2
}
