{
 "cells": [
  {
   "cell_type": "code",
   "execution_count": 32,
   "metadata": {},
   "outputs": [
    {
     "name": "stdout",
     "output_type": "stream",
     "text": [
      "[youtube] XLUdnWsaurU: Downloading webpage\n",
      "[youtube] XLUdnWsaurU: Downloading video info webpage\n",
      "[download] Destination: yt_audio/fake_love.webm\n",
      "[download] 100% of 3.78MiB in 00:0031MiB/s ETA 00:006\n",
      "[ffmpeg] Destination: yt_audio/fake_love.mp3\n",
      "Deleting original file yt_audio/fake_love.webm (pass -k to keep)\n"
     ]
    }
   ],
   "source": [
    "from __future__ import unicode_literals\n",
    "import youtube_dl\n",
    "bts = [\n",
    "    'fake love', 'dna', 'idol', 'boy with luv', 'dope', 'fire', 'i need u',\n",
    "    'blood sweat and tears', 'not today', 'mic drop'\n",
    "]\n",
    "blackpink = [\n",
    "    'kill this love', 'ddu-du ddu-du', 'boombayah', \"as if it's your last\",\n",
    "    \"don't know what to do\", 'playing with fire', 'whistle',\n",
    "    'forever young', 'kiss and make up', 'kick it'\n",
    "]\n",
    "dreamcatcher = [\n",
    "    'chase me', 'good night', 'full moon', 'piri', 'you and i', 'fly high',\n",
    "    'over the sky', 'what', 'wonderland', 'and there was no one left'\n",
    "]\n",
    "exo = [\n",
    "    'love shot', 'ko ko bop', 'monster', 'tempo', 'growl', 'call me baby',\n",
    "    'the eve', 'lotto', 'power', 'love me right'\n",
    "]\n",
    "monsta_x = [\n",
    "    'trespass', 'x', 'play it cool', 'shoot out', 'dramarama', 'alligator',\n",
    "    'hero', 'jealousy', 'beautiful', 'shine forever'\n",
    "]\n",
    "aoa = [\n",
    "    'miniskirt', 'like a cat', 'excuse me', 'confused', 'bingle bangle',\n",
    "    'ai wo choudai', 'good luck', 'heart attack', 'bing bing'\n",
    "]\n",
    "ydl_opts = {\n",
    "    'format': 'bestaudio/best',\n",
    "    'outtmpl': 'audio_files/TEMPLATE.%(ext)s',\n",
    "    'postprocessors': [{\n",
    "        'key': 'FFmpegExtractAudio',\n",
    "        'preferredcodec': 'mp3',\n",
    "        'preferredquality': '192',\n",
    "    }],\n",
    "}\n",
    "with youtube_dl.YoutubeDL(ydl_opts) as ydl:\n",
    "    video_id = 'fake_love'\n",
    "    ydl.download(['https://www.youtube.com/watch?v=XLUdnWsaurU'])"
   ]
  },
  {
   "cell_type": "code",
   "execution_count": null,
   "metadata": {},
   "outputs": [],
   "source": []
  },
  {
   "cell_type": "code",
   "execution_count": null,
   "metadata": {},
   "outputs": [],
   "source": []
  }
 ],
 "metadata": {
  "kernelspec": {
   "display_name": "Python 3",
   "language": "python",
   "name": "python3"
  },
  "language_info": {
   "codemirror_mode": {
    "name": "ipython",
    "version": 3
   },
   "file_extension": ".py",
   "mimetype": "text/x-python",
   "name": "python",
   "nbconvert_exporter": "python",
   "pygments_lexer": "ipython3",
   "version": "3.6.5"
  }
 },
 "nbformat": 4,
 "nbformat_minor": 2
}
