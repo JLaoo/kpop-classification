{
 "cells": [
  {
   "cell_type": "code",
   "execution_count": 53,
   "metadata": {},
   "outputs": [
    {
     "name": "stderr",
     "output_type": "stream",
     "text": [
      "WARNING: Logging before flag parsing goes to stderr.\n",
      "W0606 23:51:47.681900 4536038848 __init__.py:56] Some hub symbols are not available because TensorFlow version is less than 1.14\n"
     ]
    }
   ],
   "source": [
    "import librosa\n",
    "import pandas as pd\n",
    "import numpy as np\n",
    "import matplotlib.pyplot as plt\n",
    "import os\n",
    "\n",
    "from sklearn.model_selection import train_test_split\n",
    "from keras import models\n",
    "from keras import layers\n",
    "from sklearn.preprocessing import LabelEncoder, StandardScaler\n",
    "import tensorflow as tf\n",
    "import tensorflow_hub as hub\n",
    "from tensorflow.keras import layers\n",
    "from tensorflow.keras import backend as K"
   ]
  },
  {
   "cell_type": "code",
   "execution_count": 4,
   "metadata": {},
   "outputs": [],
   "source": [
    "#Gather song paths\n",
    "group_folders = []\n",
    "for folder in os.listdir('./audio_files'):\n",
    "    if folder != '.DS_Store':\n",
    "        group_folders.append(folder)\n",
    "song_paths = []\n",
    "for i in range(len(group_folders)):\n",
    "    for song in os.listdir('./clipped_audio/'+group_folders[i]):\n",
    "        if song != '.DS_Store':\n",
    "            song_paths.append('/clipped_audio/'+group_folders[i]+'/'+song)"
   ]
  },
  {
   "cell_type": "code",
   "execution_count": 18,
   "metadata": {},
   "outputs": [],
   "source": [
    "#Extract features\n",
    "data = [[] for x in range(28)]\n",
    "for song in song_paths:\n",
    "    y, sr = librosa.load(song[1:], mono=True)\n",
    "    chroma_stft = librosa.feature.chroma_stft(y=y, sr=sr)\n",
    "    spec_cent = librosa.feature.spectral_centroid(y=y, sr=sr)\n",
    "    spec_bw = librosa.feature.spectral_bandwidth(y=y, sr=sr)\n",
    "    rolloff = librosa.feature.spectral_rolloff(y=y, sr=sr)\n",
    "    zcr = librosa.feature.zero_crossing_rate(y)\n",
    "    mfcc = librosa.feature.mfcc(y=y, sr=sr)\n",
    "    rmse = librosa.feature.rmse(y=y)\n",
    "    for i in np.arange(20):\n",
    "        data[i].append(mfcc[i])\n",
    "    data[20].append(chroma_stft)\n",
    "    data[21].append(spec_cent)\n",
    "    data[22].append(spec_bw)\n",
    "    data[23].append(rolloff)\n",
    "    data[24].append(zcr)\n",
    "    data[25].append(rmse)\n",
    "    data[26].append(song.split('/')[3])\n",
    "    data[27].append(song.split('/')[2])"
   ]
  },
  {
   "cell_type": "code",
   "execution_count": 23,
   "metadata": {},
   "outputs": [],
   "source": [
    "#Create dataframe\n",
    "dct = {\n",
    "    'mfcc1': [np.mean(x) for x in data[0]],\n",
    "    'mfcc2': [np.mean(x) for x in data[1]], \n",
    "    'mfcc3': [np.mean(x) for x in data[2]], \n",
    "    'mfcc4': [np.mean(x) for x in data[3]], \n",
    "    'mfcc5': [np.mean(x) for x in data[4]], \n",
    "    'mfcc6': [np.mean(x) for x in data[5]],\n",
    "    'mfcc7': [np.mean(x) for x in data[6]],\n",
    "    'mfcc8': [np.mean(x) for x in data[7]],\n",
    "    'mfcc9': [np.mean(x) for x in data[8]],\n",
    "    'mfcc10': [np.mean(x) for x in data[9]],\n",
    "    'mfcc11': [np.mean(x) for x in data[10]],\n",
    "    'mfcc12': [np.mean(x) for x in data[11]],\n",
    "    'mfcc13': [np.mean(x) for x in data[12]],\n",
    "    'mfcc14': [np.mean(x) for x in data[13]],\n",
    "    'mfcc15': [np.mean(x) for x in data[14]],\n",
    "    'mfcc16': [np.mean(x) for x in data[15]],\n",
    "    'mfcc17': [np.mean(x) for x in data[16]],\n",
    "    'mfcc18': [np.mean(x) for x in data[17]],\n",
    "    'mfcc19': [np.mean(x) for x in data[18]],\n",
    "    'mfcc20': [np.mean(x) for x in data[19]],\n",
    "    'chroma_stft': [np.mean(x) for x in data[20]],\n",
    "    'spec_cent': [np.mean(x) for x in data[21]],\n",
    "    'spec_b2': [np.mean(x) for x in data[22]],\n",
    "    'rolloff': [np.mean(x) for x in data[23]],\n",
    "    'zcr': [np.mean(x) for x in data[24]],\n",
    "    'rmse': [np.mean(x) for x in data[25]],\n",
    "    'song_name': data[26],\n",
    "    'group': data[27]\n",
    "}\n",
    "df = pd.DataFrame(data=dct)"
   ]
  },
  {
   "cell_type": "code",
   "execution_count": 28,
   "metadata": {},
   "outputs": [],
   "source": [
    "#Split data\n",
    "X_train, X_test, y_train, y_test = train_test_split(df.drop(columns=[\"group\", \"song_name\"]), \n",
    "                                                    df[\"group\"], \n",
    "                                                    test_size=0.2, random_state=0)"
   ]
  },
  {
   "cell_type": "code",
   "execution_count": 106,
   "metadata": {},
   "outputs": [],
   "source": [
    "#Encode y into scalar values and scale x\n",
    "encoder = LabelEncoder()\n",
    "scaler = StandardScaler()\n",
    "y_train = encoder.fit_transform(y_train)\n",
    "y_test = encoder.fit_transform(y_test)\n",
    "X_train = scaler.fit_transform(np.array(X_train, dtype=float))\n",
    "X_test = scaler.fit_transform(np.array(X_test, dtype=float))"
   ]
  },
  {
   "cell_type": "code",
   "execution_count": 107,
   "metadata": {},
   "outputs": [],
   "source": [
    "#Construct model\n",
    "model = tf.keras.Sequential()\n",
    "model.add(layers.Dense(256, activation='relu', input_shape=(X_train.shape[1],)))\n",
    "model.add(layers.Dense(128, activation='relu'))\n",
    "model.add(layers.Dense(64, activation='relu'))\n",
    "model.add(layers.Dense(10, activation='softmax'))"
   ]
  },
  {
   "cell_type": "code",
   "execution_count": 108,
   "metadata": {},
   "outputs": [],
   "source": [
    "model.compile(optimizer='adam',\n",
    "              loss='sparse_categorical_crossentropy',\n",
    "              metrics=['accuracy'])"
   ]
  },
  {
   "cell_type": "code",
   "execution_count": 109,
   "metadata": {
    "scrolled": true
   },
   "outputs": [
    {
     "name": "stdout",
     "output_type": "stream",
     "text": [
      "Epoch 1/10\n",
      "240/240 [==============================] - 0s 861us/sample - loss: 2.1499 - acc: 0.2917\n",
      "Epoch 2/10\n",
      "240/240 [==============================] - 0s 52us/sample - loss: 1.7488 - acc: 0.5083\n",
      "Epoch 3/10\n",
      "240/240 [==============================] - 0s 52us/sample - loss: 1.3832 - acc: 0.5708\n",
      "Epoch 4/10\n",
      "240/240 [==============================] - 0s 53us/sample - loss: 1.0527 - acc: 0.7208\n",
      "Epoch 5/10\n",
      "240/240 [==============================] - 0s 54us/sample - loss: 0.7841 - acc: 0.8083\n",
      "Epoch 6/10\n",
      "240/240 [==============================] - 0s 60us/sample - loss: 0.5930 - acc: 0.8542\n",
      "Epoch 7/10\n",
      "240/240 [==============================] - 0s 54us/sample - loss: 0.4892 - acc: 0.8500\n",
      "Epoch 8/10\n",
      "240/240 [==============================] - 0s 54us/sample - loss: 0.3828 - acc: 0.9042\n",
      "Epoch 9/10\n",
      "240/240 [==============================] - 0s 57us/sample - loss: 0.3155 - acc: 0.9208\n",
      "Epoch 10/10\n",
      "240/240 [==============================] - 0s 54us/sample - loss: 0.2621 - acc: 0.9375\n"
     ]
    }
   ],
   "source": [
    "#Train model\n",
    "history = model.fit(X_train,\n",
    "                    y_train,\n",
    "                    epochs=10,\n",
    "                    batch_size=32)"
   ]
  },
  {
   "cell_type": "code",
   "execution_count": 110,
   "metadata": {},
   "outputs": [
    {
     "name": "stdout",
     "output_type": "stream",
     "text": [
      "60/60 [==============================] - 0s 2ms/sample - loss: 0.9296 - acc: 0.7000\n"
     ]
    }
   ],
   "source": [
    "test_loss, test_acc = model.evaluate(X_test,y_test)"
   ]
  },
  {
   "cell_type": "code",
   "execution_count": 112,
   "metadata": {},
   "outputs": [
    {
     "name": "stdout",
     "output_type": "stream",
     "text": [
      "Test Set Accuracy: 0.7\n"
     ]
    }
   ],
   "source": [
    "print('Test Set Accuracy:', test_acc)"
   ]
  },
  {
   "cell_type": "code",
   "execution_count": null,
   "metadata": {},
   "outputs": [],
   "source": []
  }
 ],
 "metadata": {
  "kernelspec": {
   "display_name": "Python 3",
   "language": "python",
   "name": "python3"
  },
  "language_info": {
   "codemirror_mode": {
    "name": "ipython",
    "version": 3
   },
   "file_extension": ".py",
   "mimetype": "text/x-python",
   "name": "python",
   "nbconvert_exporter": "python",
   "pygments_lexer": "ipython3",
   "version": "3.6.5"
  }
 },
 "nbformat": 4,
 "nbformat_minor": 2
}
